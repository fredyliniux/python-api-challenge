{
 "cells": [
  {
   "cell_type": "markdown",
   "metadata": {},
   "source": [
    "# WeatherPy\n",
    "----\n",
    "\n",
    "#### Note\n",
    "* Instructions have been included for each segment. You do not have to follow them exactly, but they are included to help you think through the steps."
   ]
  },
  {
   "cell_type": "code",
   "execution_count": 1,
   "metadata": {
    "scrolled": true
   },
   "outputs": [],
   "source": [
    "# Dependencies and Setup\n",
    "import matplotlib.pyplot as plt\n",
    "import pandas as pd\n",
    "import numpy as np\n",
    "import requests\n",
    "import time\n",
    "from datetime import datetime\n",
    "\n",
    "from scipy.stats import linregress\n",
    "\n",
    "# Import API key\n",
    "from api_keys import weather_api_key\n",
    "\n",
    "#Incorporated citipy to determine city based on latitude and longitude\n",
    "from citipy import citipy\n",
    "\n",
    "\n",
    "# Output File (CSV)\n",
    "output_data_file = \"output_data/cities.csv\"\n",
    "\n",
    "# Range of latitudes and longitudes\n",
    "lat_range = (-90, 90)\n",
    "lng_range = (-180, 180)"
   ]
  },
  {
   "cell_type": "code",
   "execution_count": 2,
   "metadata": {},
   "outputs": [
    {
     "name": "stdout",
     "output_type": "stream",
     "text": [
      "Requirement already satisfied: citipy in /Users/fredyreyes/opt/anaconda3/lib/python3.7/site-packages (0.0.5)\n",
      "Requirement already satisfied: kdtree>=0.12 in /Users/fredyreyes/opt/anaconda3/lib/python3.7/site-packages (from citipy) (0.16)\n",
      "\u001b[33mWARNING: You are using pip version 21.0.1; however, version 21.1.2 is available.\n",
      "You should consider upgrading via the '/Users/fredyreyes/opt/anaconda3/bin/python -m pip install --upgrade pip' command.\u001b[0m\n",
      "Note: you may need to restart the kernel to use updated packages.\n"
     ]
    }
   ],
   "source": [
    "pip install citipy"
   ]
  },
  {
   "cell_type": "markdown",
   "metadata": {},
   "source": [
    "## Generate Cities List"
   ]
  },
  {
   "cell_type": "code",
   "execution_count": 3,
   "metadata": {},
   "outputs": [
    {
     "data": {
      "text/plain": [
       "627"
      ]
     },
     "execution_count": 3,
     "metadata": {},
     "output_type": "execute_result"
    }
   ],
   "source": [
    "# List for holding lat_lngs and cities\n",
    "lat_lngs = []\n",
    "cities = []\n",
    "\n",
    "# Create a set of random lat and lng combinations\n",
    "lats = np.random.uniform(lat_range[0], lat_range[1], size=1500)\n",
    "lngs = np.random.uniform(lng_range[0], lng_range[1], size=1500)\n",
    "lat_lngs = zip(lats, lngs)\n",
    "\n",
    "# Identify nearest city for each lat, lng combination\n",
    "for lat_lng in lat_lngs:\n",
    "    city = citipy.nearest_city(lat_lng[0], lat_lng[1]).city_name\n",
    "    \n",
    "    # If the city is unique, then add it to a our cities list\n",
    "    if city not in cities:\n",
    "        cities.append(city)\n",
    "\n",
    "# Print the city count to confirm sufficient count\n",
    "len(cities)"
   ]
  },
  {
   "cell_type": "markdown",
   "metadata": {},
   "source": [
    "### Perform API Calls\n",
    "* Perform a weather check on each city using a series of successive API calls.\n",
    "* Include a print log of each city as it'sbeing processed (with the city number and city name).\n"
   ]
  },
  {
   "cell_type": "code",
   "execution_count": 4,
   "metadata": {},
   "outputs": [
    {
     "name": "stdout",
     "output_type": "stream",
     "text": [
      "Processing record 1|cape town\n",
      "Processing record 2|saskylakh\n",
      "City not found. skipping.\n",
      "Processing record 3|katsuura\n",
      "Processing record 4|harper\n",
      "Processing record 5|cherskiy\n",
      "Processing record 6|tatarskaya kargala\n",
      "Processing record 7|thompson\n",
      "Processing record 8|kamakwie\n",
      "Processing record 9|lakefield\n",
      "Processing record 10|tiksi\n",
      "Processing record 11|albany\n",
      "Processing record 12|east london\n",
      "Processing record 13|meulaboh\n",
      "Processing record 14|tiznit\n",
      "Processing record 15|rikitea\n",
      "Processing record 16|dikson\n",
      "Processing record 17|santa cruz\n",
      "Processing record 18|haines junction\n",
      "Processing record 19|saint-philippe\n",
      "Processing record 20|georgetown\n",
      "City not found. skipping.\n",
      "Processing record 21|tenenkou\n",
      "Processing record 22|formosa\n",
      "Processing record 23|porto novo\n",
      "Processing record 24|vaini\n",
      "Processing record 25|pisco\n",
      "Processing record 26|sao paulo de olivenca\n",
      "Processing record 27|ushuaia\n",
      "Processing record 28|suez\n",
      "Processing record 29|sur\n",
      "Processing record 30|bengkulu\n",
      "Processing record 31|satao\n",
      "Processing record 32|neryungri\n",
      "Processing record 33|kavieng\n",
      "Processing record 34|arraial do cabo\n",
      "Processing record 35|busselton\n",
      "Processing record 36|havre-saint-pierre\n",
      "Processing record 37|souillac\n",
      "Processing record 38|ulladulla\n",
      "Processing record 39|pervomayskiy\n",
      "Processing record 40|laiwu\n",
      "Processing record 41|norwich\n",
      "Processing record 42|camacha\n",
      "Processing record 43|port elizabeth\n",
      "Processing record 44|laguna\n",
      "Processing record 45|huarmey\n",
      "Processing record 46|pata\n",
      "Processing record 47|moron\n",
      "Processing record 48|chokurdakh\n",
      "Processing record 49|san patricio\n",
      "Processing record 50|gualeguaychu\n",
      "City not found. skipping.\n",
      "City not found. skipping.\n",
      "Processing record 51|new norfolk\n",
      "Processing record 52|khatanga\n",
      "Processing record 53|luwuk\n",
      "City not found. skipping.\n",
      "City not found. skipping.\n",
      "City not found. skipping.\n",
      "Processing record 54|kaeo\n",
      "Processing record 55|butaritari\n",
      "Processing record 56|aliwal north\n",
      "Processing record 57|yellowknife\n",
      "Processing record 58|atuona\n",
      "Processing record 59|mataura\n",
      "Processing record 60|muravlenko\n",
      "Processing record 61|punta arenas\n",
      "Processing record 62|kodiak\n",
      "Processing record 63|upernavik\n",
      "Processing record 64|avera\n",
      "Processing record 65|severnyy\n",
      "Processing record 66|barrow\n",
      "Processing record 67|sao joao da barra\n",
      "Processing record 68|carnarvon\n",
      "Processing record 69|bull savanna\n",
      "Processing record 70|asau\n",
      "Processing record 71|chapais\n",
      "Processing record 72|kaitangata\n",
      "Processing record 73|bandarbeyla\n",
      "Processing record 74|maceio\n",
      "Processing record 75|lavrentiya\n",
      "Processing record 76|acapulco\n",
      "Processing record 77|hermanus\n",
      "Processing record 78|airai\n",
      "Processing record 79|qaanaaq\n",
      "Processing record 80|esperance\n",
      "Processing record 81|teeli\n",
      "Processing record 82|zeya\n",
      "Processing record 83|faanui\n",
      "Processing record 84|omboue\n",
      "Processing record 85|cockburn town\n",
      "Processing record 86|rodrigues alves\n",
      "Processing record 87|mangrol\n",
      "Processing record 88|ludza\n",
      "Processing record 89|shieli\n",
      "Processing record 90|torbay\n",
      "Processing record 91|constitucion\n",
      "Processing record 92|lazaro cardenas\n",
      "Processing record 93|kalamazoo\n",
      "Processing record 94|nabire\n",
      "Processing record 95|victoria\n",
      "Processing record 96|norman wells\n",
      "Processing record 97|ancud\n",
      "Processing record 98|ilulissat\n",
      "Processing record 99|guaruja\n",
      "Processing record 100|sambava\n",
      "Processing record 101|chingirlau\n",
      "Processing record 102|port victoria\n",
      "Processing record 103|jamestown\n",
      "Processing record 104|peniche\n",
      "Processing record 105|madang\n",
      "Processing record 106|oranjemund\n",
      "Processing record 107|roma\n",
      "Processing record 108|carmo do rio claro\n",
      "Processing record 109|cabo san lucas\n",
      "Processing record 110|innisfail\n",
      "Processing record 111|sao felix do xingu\n",
      "Processing record 112|praia da vitoria\n",
      "Processing record 113|svetlogorsk\n",
      "Processing record 114|geraldton\n",
      "Processing record 115|hobart\n",
      "Processing record 116|hamilton\n",
      "Processing record 117|provideniya\n",
      "Processing record 118|bredasdorp\n",
      "Processing record 119|catuday\n",
      "Processing record 120|bubaque\n",
      "Processing record 121|vilyuysk\n",
      "Processing record 122|mugumu\n",
      "Processing record 123|anloga\n",
      "Processing record 124|ponta delgada\n",
      "Processing record 125|kozhva\n",
      "City not found. skipping.\n",
      "Processing record 126|clyde river\n",
      "Processing record 127|klaksvik\n",
      "Processing record 128|khilok\n",
      "Processing record 129|ukiah\n",
      "Processing record 130|mumford\n",
      "Processing record 131|mersing\n",
      "Processing record 132|narsaq\n",
      "Processing record 133|iqaluit\n",
      "Processing record 134|namibe\n",
      "City not found. skipping.\n",
      "Processing record 135|angoram\n",
      "Processing record 136|hithadhoo\n",
      "Processing record 137|pevek\n",
      "Processing record 138|nikolskoye\n",
      "Processing record 139|guerrero negro\n",
      "Processing record 140|castro\n",
      "City not found. skipping.\n",
      "Processing record 141|berdigestyakh\n",
      "Processing record 142|port alfred\n",
      "City not found. skipping.\n",
      "Processing record 143|samarai\n",
      "Processing record 144|walker\n",
      "City not found. skipping.\n",
      "Processing record 145|port hardy\n",
      "Processing record 146|pangai\n",
      "Processing record 147|bluff\n",
      "Processing record 148|ayagoz\n",
      "Processing record 149|ojinaga\n",
      "Processing record 150|nome\n",
      "Processing record 151|prior lake\n",
      "Processing record 152|ambon\n",
      "Processing record 153|walvis bay\n",
      "Processing record 154|lagoa\n",
      "Processing record 155|mantua\n",
      "City not found. skipping.\n",
      "Processing record 156|coquimbo\n",
      "Processing record 157|los llanos de aridane\n",
      "Processing record 158|komsomolskiy\n",
      "Processing record 159|kalmunai\n",
      "Processing record 160|vao\n",
      "Processing record 161|kingori\n",
      "Processing record 162|pochutla\n",
      "City not found. skipping.\n",
      "City not found. skipping.\n",
      "Processing record 163|san cristobal\n",
      "Processing record 164|brae\n",
      "Processing record 165|muros\n",
      "Processing record 166|wasilla\n",
      "Processing record 167|margate\n",
      "Processing record 168|sitka\n",
      "Processing record 169|tuatapere\n",
      "Processing record 170|tessalit\n",
      "Processing record 171|minab\n",
      "Processing record 172|pryozerne\n",
      "Processing record 173|iralaya\n",
      "Processing record 174|denpasar\n",
      "Processing record 175|sakakah\n",
      "Processing record 176|ati\n",
      "Processing record 177|dong hoi\n",
      "Processing record 178|vestmanna\n",
      "Processing record 179|bambous virieux\n",
      "Processing record 180|belyy yar\n",
      "Processing record 181|bosaso\n",
      "Processing record 182|simpsonville\n",
      "Processing record 183|lompoc\n",
      "Processing record 184|port lincoln\n",
      "Processing record 185|tuktoyaktuk\n",
      "Processing record 186|puerto cabezas\n",
      "Processing record 187|greeneville\n",
      "Processing record 188|leh\n",
      "Processing record 189|drakino\n",
      "Processing record 190|jiaojiang\n",
      "Processing record 191|druzhba\n",
      "Processing record 192|naze\n",
      "Processing record 193|ahipara\n",
      "Processing record 194|sao bernardo\n",
      "Processing record 195|tautira\n",
      "Processing record 196|carman\n",
      "City not found. skipping.\n",
      "Processing record 197|volovo\n",
      "Processing record 198|athabasca\n",
      "Processing record 199|laurel\n",
      "Processing record 200|parnamirim\n",
      "Processing record 201|chaadayevka\n",
      "Processing record 202|mahebourg\n",
      "City not found. skipping.\n",
      "Processing record 203|sistranda\n",
      "Processing record 204|pangnirtung\n",
      "Processing record 205|pajapan\n",
      "Processing record 206|seinajoki\n",
      "Processing record 207|puerto ayora\n",
      "Processing record 208|ugoofaaru\n",
      "Processing record 209|qinzhou\n",
      "Processing record 210|guia de isora\n",
      "Processing record 211|gizo\n",
      "Processing record 212|hambantota\n",
      "Processing record 213|ha tinh\n",
      "Processing record 214|ouadda\n",
      "Processing record 215|baft\n",
      "Processing record 216|sao filipe\n",
      "Processing record 217|lianran\n",
      "Processing record 218|bakchar\n",
      "Processing record 219|loukhi\n",
      "Processing record 220|hilo\n",
      "Processing record 221|san carlos de bariloche\n",
      "Processing record 222|teahupoo\n",
      "Processing record 223|naberera\n",
      "Processing record 224|santarem\n",
      "Processing record 225|ushibuka\n",
      "Processing record 226|mandera\n",
      "Processing record 227|ushumun\n",
      "Processing record 228|kampong thum\n",
      "Processing record 229|udachnyy\n",
      "Processing record 230|severo-yeniseyskiy\n",
      "Processing record 231|mackay\n",
      "Processing record 232|saint george\n",
      "Processing record 233|nago\n",
      "Processing record 234|mar del plata\n",
      "Processing record 235|grand gaube\n",
      "Processing record 236|maridi\n",
      "Processing record 237|tasiilaq\n",
      "Processing record 238|fortuna\n",
      "Processing record 239|waitati\n",
      "Processing record 240|besancon\n",
      "City not found. skipping.\n",
      "Processing record 241|tahe\n",
      "Processing record 242|san juan\n",
      "City not found. skipping.\n",
      "Processing record 243|lancaster\n",
      "Processing record 244|rocha\n",
      "Processing record 245|yar-sale\n",
      "Processing record 246|talnakh\n",
      "Processing record 247|ciudad bolivar\n",
      "Processing record 248|peschanokopskoye\n"
     ]
    },
    {
     "name": "stdout",
     "output_type": "stream",
     "text": [
      "City not found. skipping.\n",
      "City not found. skipping.\n",
      "Processing record 249|quatre cocos\n",
      "Processing record 250|richards bay\n",
      "Processing record 251|caravelas\n",
      "City not found. skipping.\n",
      "Processing record 252|kahului\n",
      "Processing record 253|severo-kurilsk\n",
      "Processing record 254|mayor pablo lagerenza\n",
      "Processing record 255|koryukivka\n",
      "Processing record 256|tigil\n",
      "Processing record 257|yablonovo\n",
      "Processing record 258|ormara\n",
      "Processing record 259|monroe\n",
      "Processing record 260|longyearbyen\n",
      "Processing record 261|kapaa\n",
      "Processing record 262|chibuto\n",
      "Processing record 263|ongandjera\n",
      "Processing record 264|sisimiut\n",
      "Processing record 265|bad aibling\n",
      "Processing record 266|the pas\n",
      "City not found. skipping.\n",
      "Processing record 267|kaifeng\n",
      "Processing record 268|chifeng\n",
      "Processing record 269|sinnamary\n",
      "Processing record 270|almaznyy\n",
      "Processing record 271|raymondville\n",
      "Processing record 272|vestmannaeyjar\n",
      "Processing record 273|valera\n",
      "Processing record 274|petropavlovsk-kamchatskiy\n",
      "Processing record 275|bandundu\n",
      "Processing record 276|mareeba\n",
      "Processing record 277|oktyabrskoye\n",
      "Processing record 278|kavaratti\n",
      "Processing record 279|otukpo\n",
      "Processing record 280|tongren\n",
      "Processing record 281|sulangan\n",
      "Processing record 282|ribeira grande\n",
      "Processing record 283|saiha\n",
      "Processing record 284|vardo\n",
      "Processing record 285|jurado\n",
      "Processing record 286|bom conselho\n",
      "Processing record 287|liwale\n",
      "Processing record 288|codrington\n",
      "Processing record 289|estepa\n",
      "Processing record 290|kanigoro\n",
      "Processing record 291|hasaki\n",
      "Processing record 292|aragarcas\n",
      "Processing record 293|yulara\n",
      "Processing record 294|taoudenni\n",
      "Processing record 295|luderitz\n",
      "Processing record 296|potam\n",
      "City not found. skipping.\n",
      "Processing record 297|aguimes\n",
      "Processing record 298|mayo\n",
      "City not found. skipping.\n",
      "Processing record 299|isiro\n",
      "City not found. skipping.\n",
      "City not found. skipping.\n",
      "Processing record 300|saint-joseph\n",
      "Processing record 301|avdiyivka\n",
      "City not found. skipping.\n",
      "Processing record 302|zhangye\n",
      "Processing record 303|panaba\n",
      "Processing record 304|pangkalanbuun\n",
      "Processing record 305|padang\n",
      "Processing record 306|concarneau\n",
      "Processing record 307|puri\n",
      "Processing record 308|avarua\n",
      "Processing record 309|pacific grove\n",
      "Processing record 310|panacan\n",
      "Processing record 311|dabakala\n",
      "Processing record 312|yerbogachen\n",
      "Processing record 313|chuy\n",
      "Processing record 314|pangody\n",
      "Processing record 315|keuruu\n",
      "Processing record 316|melhus\n",
      "Processing record 317|waingapu\n",
      "Processing record 318|ludvika\n",
      "Processing record 319|ariquemes\n",
      "City not found. skipping.\n",
      "Processing record 320|sibolga\n",
      "Processing record 321|beipiao\n",
      "Processing record 322|sayat\n",
      "Processing record 323|vila velha\n",
      "Processing record 324|mogadishu\n",
      "Processing record 325|nchelenge\n",
      "Processing record 326|lagdo\n",
      "City not found. skipping.\n",
      "Processing record 327|skibbereen\n",
      "Processing record 328|macherla\n",
      "Processing record 329|andros town\n",
      "Processing record 330|asosa\n",
      "Processing record 331|saldanha\n",
      "Processing record 332|cidreira\n",
      "Processing record 333|banda aceh\n",
      "Processing record 334|bethel\n",
      "Processing record 335|byron bay\n",
      "Processing record 336|alofi\n",
      "Processing record 337|nakamura\n",
      "Processing record 338|rio grande\n",
      "Processing record 339|bonavista\n",
      "City not found. skipping.\n",
      "Processing record 340|teguldet\n",
      "Processing record 341|catabola\n",
      "Processing record 342|necochea\n",
      "Processing record 343|saryg-sep\n",
      "Processing record 344|lilongwe\n",
      "Processing record 345|manaure\n",
      "Processing record 346|bahia blanca\n",
      "Processing record 347|hegang\n",
      "Processing record 348|deputatskiy\n",
      "Processing record 349|aloleng\n",
      "Processing record 350|manta\n",
      "Processing record 351|magadan\n",
      "Processing record 352|erzin\n",
      "Processing record 353|hovd\n",
      "Processing record 354|westport\n",
      "Processing record 355|bulanash\n",
      "Processing record 356|godo\n",
      "City not found. skipping.\n",
      "Processing record 357|lata\n",
      "Processing record 358|sarkand\n",
      "Processing record 359|mabaruma\n",
      "Processing record 360|matamoros\n",
      "Processing record 361|kenai\n",
      "Processing record 362|shintomi\n",
      "Processing record 363|sa kaeo\n",
      "Processing record 364|tateyama\n",
      "Processing record 365|loandjili\n",
      "Processing record 366|winnemucca\n",
      "City not found. skipping.\n",
      "Processing record 367|kantilo\n",
      "Processing record 368|roald\n",
      "Processing record 369|kimbe\n",
      "Processing record 370|camara de lobos\n",
      "Processing record 371|vengerovo\n",
      "Processing record 372|aklavik\n",
      "Processing record 373|banff\n",
      "Processing record 374|kapit\n",
      "Processing record 375|helong\n",
      "Processing record 376|phalombe\n",
      "Processing record 377|coihaique\n",
      "Processing record 378|shingu\n",
      "Processing record 379|antalaha\n",
      "Processing record 380|camana\n",
      "Processing record 381|kuryk\n",
      "Processing record 382|mombasa\n",
      "Processing record 383|medicine hat\n",
      "Processing record 384|lixourion\n",
      "Processing record 385|nyurba\n",
      "Processing record 386|general roca\n",
      "Processing record 387|mbanza-ngungu\n",
      "Processing record 388|dingle\n",
      "Processing record 389|kidal\n",
      "Processing record 390|inuvik\n",
      "Processing record 391|tura\n",
      "Processing record 392|jiayuguan\n",
      "Processing record 393|viedma\n",
      "Processing record 394|luau\n",
      "Processing record 395|guaira\n",
      "Processing record 396|kemin\n",
      "Processing record 397|yangambi\n",
      "Processing record 398|kang\n",
      "Processing record 399|vostok\n",
      "City not found. skipping.\n",
      "Processing record 400|yeniseysk\n",
      "Processing record 401|mazatan\n",
      "Processing record 402|la ronge\n",
      "Processing record 403|mount pleasant\n",
      "Processing record 404|broome\n",
      "City not found. skipping.\n",
      "Processing record 405|zhanaozen\n",
      "Processing record 406|santa marta\n",
      "Processing record 407|illapel\n",
      "City not found. skipping.\n",
      "Processing record 408|ponta do sol\n",
      "Processing record 409|nicoya\n",
      "Processing record 410|korla\n",
      "Processing record 411|vega de alatorre\n",
      "City not found. skipping.\n",
      "Processing record 412|sept-iles\n",
      "Processing record 413|maxixe\n",
      "Processing record 414|matay\n",
      "Processing record 415|nobres\n",
      "City not found. skipping.\n",
      "Processing record 416|gat\n",
      "Processing record 417|dubrovytsya\n",
      "Processing record 418|bonfim\n",
      "Processing record 419|kuala lipis\n",
      "City not found. skipping.\n",
      "Processing record 420|ust-nera\n",
      "Processing record 421|mount isa\n",
      "Processing record 422|north bend\n",
      "Processing record 423|saint-raymond\n",
      "Processing record 424|belmonte\n",
      "Processing record 425|ust-tsilma\n",
      "Processing record 426|port hedland\n",
      "Processing record 427|qandala\n",
      "Processing record 428|altay\n",
      "Processing record 429|ostrovnoy\n",
      "Processing record 430|nanortalik\n",
      "Processing record 431|paamiut\n",
      "Processing record 432|waipawa\n",
      "Processing record 433|plettenberg bay\n",
      "Processing record 434|coahuayana\n",
      "Processing record 435|sorland\n",
      "City not found. skipping.\n",
      "Processing record 436|bathsheba\n",
      "Processing record 437|gornyak\n",
      "Processing record 438|nyrob\n",
      "Processing record 439|luganville\n",
      "Processing record 440|salinopolis\n",
      "Processing record 441|arlit\n",
      "Processing record 442|togur\n",
      "Processing record 443|muisne\n",
      "Processing record 444|martvili\n",
      "Processing record 445|ulaanbaatar\n",
      "Processing record 446|isangel\n",
      "Processing record 447|kirakira\n",
      "Processing record 448|kovdor\n",
      "Processing record 449|battle creek\n",
      "City not found. skipping.\n",
      "Processing record 450|mahibadhoo\n",
      "Processing record 451|vila franca do campo\n",
      "Processing record 452|marsh harbour\n",
      "Processing record 453|tiarei\n",
      "Processing record 454|mandalgovi\n",
      "Processing record 455|tilichiki\n",
      "City not found. skipping.\n",
      "Processing record 456|keetmanshoop\n",
      "Processing record 457|pathein\n",
      "Processing record 458|mwinilunga\n",
      "Processing record 459|saint anthony\n",
      "Processing record 460|guarapari\n",
      "Processing record 461|alice springs\n",
      "Processing record 462|maragogi\n",
      "Processing record 463|aleksandrov gay\n",
      "Processing record 464|mitsamiouli\n",
      "Processing record 465|hami\n",
      "Processing record 466|bolitoc\n",
      "Processing record 467|abaca\n",
      "Processing record 468|elk\n",
      "Processing record 469|kloulklubed\n",
      "Processing record 470|miles city\n",
      "Processing record 471|jalu\n",
      "Processing record 472|olga\n",
      "Processing record 473|sioux lookout\n",
      "Processing record 474|makinsk\n",
      "Processing record 475|ossora\n",
      "Processing record 476|salihorsk\n",
      "Processing record 477|aksha\n",
      "Processing record 478|marsabit\n",
      "Processing record 479|lorengau\n",
      "City not found. skipping.\n",
      "Processing record 480|harlingen\n",
      "Processing record 481|khetri\n",
      "Processing record 482|yamada\n",
      "Processing record 483|agaro\n",
      "Processing record 484|kiunga\n",
      "Processing record 485|finschhafen\n",
      "Processing record 486|tarakan\n",
      "Processing record 487|gazojak\n",
      "Processing record 488|leningradskiy\n",
      "Processing record 489|la libertad\n",
      "Processing record 490|pemangkat\n",
      "Processing record 491|cap-aux-meules\n"
     ]
    },
    {
     "name": "stdout",
     "output_type": "stream",
     "text": [
      "Processing record 492|salalah\n",
      "Processing record 493|lago da pedra\n",
      "Processing record 494|zilair\n",
      "Processing record 495|bara\n",
      "Processing record 496|jardim\n",
      "Processing record 497|itaituba\n",
      "Processing record 498|touros\n",
      "Processing record 499|mehamn\n",
      "Processing record 500|chaoyang\n",
      "Processing record 501|talas\n",
      "Processing record 502|lae\n",
      "Processing record 503|mormugao\n",
      "Processing record 504|novopokrovka\n",
      "Processing record 505|rach gia\n",
      "Processing record 506|beloha\n",
      "Processing record 507|alyangula\n",
      "Processing record 508|farsund\n",
      "Processing record 509|san fernando\n",
      "Processing record 510|utete\n",
      "City not found. skipping.\n",
      "Processing record 511|fez\n",
      "Processing record 512|kinsale\n",
      "Processing record 513|ucluelet\n",
      "Processing record 514|andilamena\n",
      "Processing record 515|riyadh\n",
      "Processing record 516|lebu\n",
      "City not found. skipping.\n",
      "Processing record 517|pavlodar\n",
      "City not found. skipping.\n",
      "Processing record 518|marawi\n",
      "Processing record 519|aksu\n",
      "Processing record 520|tokuyama\n",
      "Processing record 521|benxi\n",
      "Processing record 522|berlevag\n",
      "Processing record 523|santa rosa\n",
      "Processing record 524|seymchan\n",
      "Processing record 525|sisophon\n",
      "Processing record 526|moree\n",
      "City not found. skipping.\n",
      "Processing record 527|brigantine\n",
      "Processing record 528|eyl\n",
      "Processing record 529|persan\n",
      "Processing record 530|betong\n",
      "Processing record 531|opuwo\n",
      "Processing record 532|saint-pierre\n",
      "Processing record 533|baracoa\n",
      "Processing record 534|clyde\n",
      "Processing record 535|marsa matruh\n",
      "Processing record 536|ekhabi\n",
      "Processing record 537|ambanja\n",
      "Processing record 538|karlstad\n",
      "Processing record 539|olafsvik\n",
      "Processing record 540|machakos\n",
      "Processing record 541|porec\n",
      "Processing record 542|saint-georges\n",
      "Processing record 543|batagay-alyta\n",
      "Processing record 544|batagay\n",
      "Processing record 545|darhan\n",
      "Processing record 546|usinsk\n",
      "Processing record 547|orange cove\n",
      "Processing record 548|san pedro\n",
      "Processing record 549|tabou\n",
      "Processing record 550|atikokan\n",
      "Processing record 551|voh\n",
      "Processing record 552|daru\n",
      "Processing record 553|beringovskiy\n",
      "Processing record 554|podporozhye\n",
      "Processing record 555|port hawkesbury\n",
      "Processing record 556|bay saint louis\n",
      "Processing record 557|lakhdenpokhya\n",
      "Processing record 558|barabash\n",
      "Processing record 559|samagaltay\n",
      "Processing record 560|hofn\n",
      "Processing record 561|luena\n",
      "Processing record 562|turbat\n",
      "Processing record 563|bagdarin\n",
      "Processing record 564|najran\n",
      "Processing record 565|dzaoudzi\n",
      "City not found. skipping.\n",
      "Processing record 566|srednekolymsk\n",
      "Processing record 567|williamsburg\n",
      "Processing record 568|xianshuigu\n",
      "Processing record 569|poum\n",
      "Processing record 570|puro\n",
      "Processing record 571|bonthe\n",
      "Processing record 572|port-gentil\n",
      "Processing record 573|tevriz\n",
      "Processing record 574|shakiso\n",
      "Processing record 575|garoua\n",
      "Processing record 576|sakaiminato\n",
      "Processing record 577|verkhnevilyuysk\n",
      "Processing record 578|shetpe\n",
      "City not found. skipping.\n"
     ]
    }
   ],
   "source": [
    "url = \"http://api.openweathermap.org/data/2.5/weather?units=Imperial&\"\n",
    "\n",
    "#Define empty lists to store values\n",
    "cloudiness = []\n",
    "country = []\n",
    "date = []\n",
    "max_temp = []\n",
    "humidity = []\n",
    "lat = []\n",
    "lng = []\n",
    "wind_speed = []\n",
    "city_name = []\n",
    "\n",
    "#Looping through cities to make api calls using city as query\n",
    "i = 1\n",
    "for city in cities:\n",
    "    city=city\n",
    "    query_url = url + \"appid=\" + weather_api_key + \"&q=\" + city\n",
    "    response = requests.get(query_url).json()\n",
    "    \n",
    "#Extracting data. Missing data is handled by try and except  \n",
    "    try:\n",
    "        \n",
    "        cloudiness.append(response[\"clouds\"][\"all\"])\n",
    "        country.append(response[\"sys\"][\"country\"])\n",
    "        date.append(response[\"dt\"])\n",
    "        max_temp.append(response[\"main\"]['temp_max'])\n",
    "        humidity.append(response[\"main\"]['humidity'])\n",
    "        lat.append(response[\"coord\"][\"lat\"])  \n",
    "        lng.append(response[\"coord\"][\"lon\"])\n",
    "        wind_speed.append(response[\"wind\"][\"speed\"])\n",
    "        city_name.append(response[\"name\"])\n",
    "        print(f\"Processing record {i}|{city}\")\n",
    "        i+=1\n",
    "    except (KeyError):\n",
    "        print(\"City not found. skipping.\")"
   ]
  },
  {
   "cell_type": "code",
   "execution_count": 5,
   "metadata": {
    "scrolled": true
   },
   "outputs": [
    {
     "data": {
      "text/html": [
       "<div>\n",
       "<style scoped>\n",
       "    .dataframe tbody tr th:only-of-type {\n",
       "        vertical-align: middle;\n",
       "    }\n",
       "\n",
       "    .dataframe tbody tr th {\n",
       "        vertical-align: top;\n",
       "    }\n",
       "\n",
       "    .dataframe thead th {\n",
       "        text-align: right;\n",
       "    }\n",
       "</style>\n",
       "<table border=\"1\" class=\"dataframe\">\n",
       "  <thead>\n",
       "    <tr style=\"text-align: right;\">\n",
       "      <th></th>\n",
       "      <th>City_ID</th>\n",
       "      <th>Cloudiness</th>\n",
       "      <th>Country</th>\n",
       "      <th>Date</th>\n",
       "      <th>Humidity</th>\n",
       "      <th>Lat</th>\n",
       "      <th>Lng</th>\n",
       "      <th>Max Temp</th>\n",
       "      <th>Wind Speed</th>\n",
       "    </tr>\n",
       "    <tr>\n",
       "      <th>City</th>\n",
       "      <th></th>\n",
       "      <th></th>\n",
       "      <th></th>\n",
       "      <th></th>\n",
       "      <th></th>\n",
       "      <th></th>\n",
       "      <th></th>\n",
       "      <th></th>\n",
       "      <th></th>\n",
       "    </tr>\n",
       "  </thead>\n",
       "  <tbody>\n",
       "    <tr>\n",
       "      <th>ostrovnoy</th>\n",
       "      <td>0</td>\n",
       "      <td>2</td>\n",
       "      <td>RU</td>\n",
       "      <td>1558378754</td>\n",
       "      <td>72</td>\n",
       "      <td>68.05</td>\n",
       "      <td>39.51</td>\n",
       "      <td>37.50</td>\n",
       "      <td>7.16</td>\n",
       "    </tr>\n",
       "    <tr>\n",
       "      <th>mahebourg</th>\n",
       "      <td>1</td>\n",
       "      <td>75</td>\n",
       "      <td>MU</td>\n",
       "      <td>1558378503</td>\n",
       "      <td>74</td>\n",
       "      <td>-20.41</td>\n",
       "      <td>57.70</td>\n",
       "      <td>78.80</td>\n",
       "      <td>11.41</td>\n",
       "    </tr>\n",
       "    <tr>\n",
       "      <th>qaanaaq</th>\n",
       "      <td>2</td>\n",
       "      <td>25</td>\n",
       "      <td>GL</td>\n",
       "      <td>1558378755</td>\n",
       "      <td>73</td>\n",
       "      <td>77.48</td>\n",
       "      <td>-69.36</td>\n",
       "      <td>22.20</td>\n",
       "      <td>2.37</td>\n",
       "    </tr>\n",
       "    <tr>\n",
       "      <th>zhuhai</th>\n",
       "      <td>3</td>\n",
       "      <td>0</td>\n",
       "      <td>CN</td>\n",
       "      <td>1558378755</td>\n",
       "      <td>39</td>\n",
       "      <td>40.71</td>\n",
       "      <td>112.04</td>\n",
       "      <td>44.60</td>\n",
       "      <td>4.47</td>\n",
       "    </tr>\n",
       "    <tr>\n",
       "      <th>cape town</th>\n",
       "      <td>4</td>\n",
       "      <td>20</td>\n",
       "      <td>ZA</td>\n",
       "      <td>1558378755</td>\n",
       "      <td>76</td>\n",
       "      <td>-33.93</td>\n",
       "      <td>18.42</td>\n",
       "      <td>55.99</td>\n",
       "      <td>8.05</td>\n",
       "    </tr>\n",
       "  </tbody>\n",
       "</table>\n",
       "</div>"
      ],
      "text/plain": [
       "           City_ID  Cloudiness Country        Date  Humidity    Lat     Lng  \\\n",
       "City                                                                          \n",
       "ostrovnoy        0           2      RU  1558378754        72  68.05   39.51   \n",
       "mahebourg        1          75      MU  1558378503        74 -20.41   57.70   \n",
       "qaanaaq          2          25      GL  1558378755        73  77.48  -69.36   \n",
       "zhuhai           3           0      CN  1558378755        39  40.71  112.04   \n",
       "cape town        4          20      ZA  1558378755        76 -33.93   18.42   \n",
       "\n",
       "           Max Temp  Wind Speed  \n",
       "City                             \n",
       "ostrovnoy     37.50        7.16  \n",
       "mahebourg     78.80       11.41  \n",
       "qaanaaq       22.20        2.37  \n",
       "zhuhai        44.60        4.47  \n",
       "cape town     55.99        8.05  "
      ]
     },
     "execution_count": 5,
     "metadata": {},
     "output_type": "execute_result"
    }
   ],
   "source": [
    "dfcities = pd.read_csv(\"../output_data/cities.csv\", encoding=\"utf-8\")\n",
    "dfcities = dfcities.set_index('City')\n",
    "dfcities.head()"
   ]
  },
  {
   "cell_type": "markdown",
   "metadata": {},
   "source": [
    "### Convert Raw Data to DataFrame\n",
    "* Export the city data into a .csv.\n",
    "* Display the DataFrame"
   ]
  },
  {
   "cell_type": "code",
   "execution_count": 7,
   "metadata": {},
   "outputs": [],
   "source": [
    "#Creating city dataframe\n",
    "city_df = pd.DataFrame({\"City\":city_name, \n",
    "                        \"Cloudiness\":cloudiness, \n",
    "                        \"Country\":country, \n",
    "                        \"Date\":date, \n",
    "                        \"Humidity\":humidity,\n",
    "                        \"Lat\":lat,\n",
    "                        \"Lng\":lng,\n",
    "                        \"Max Temp\":max_temp,\n",
    "                        \"Wind Speed\":wind_speed\n",
    "                                         })\n",
    "city_df = city_df.rename_axis('City ID')\n",
    "\n",
    "#Exporting data to csv\n",
    "city_df.to_csv(\"../output_data/city.csv\")\n",
    "\n"
   ]
  },
  {
   "cell_type": "code",
   "execution_count": 8,
   "metadata": {},
   "outputs": [
    {
     "data": {
      "text/html": [
       "<div>\n",
       "<style scoped>\n",
       "    .dataframe tbody tr th:only-of-type {\n",
       "        vertical-align: middle;\n",
       "    }\n",
       "\n",
       "    .dataframe tbody tr th {\n",
       "        vertical-align: top;\n",
       "    }\n",
       "\n",
       "    .dataframe thead th {\n",
       "        text-align: right;\n",
       "    }\n",
       "</style>\n",
       "<table border=\"1\" class=\"dataframe\">\n",
       "  <thead>\n",
       "    <tr style=\"text-align: right;\">\n",
       "      <th></th>\n",
       "      <th>City</th>\n",
       "      <th>Cloudiness</th>\n",
       "      <th>Country</th>\n",
       "      <th>Date</th>\n",
       "      <th>Humidity</th>\n",
       "      <th>Lat</th>\n",
       "      <th>Lng</th>\n",
       "      <th>Max Temp</th>\n",
       "      <th>Wind Speed</th>\n",
       "    </tr>\n",
       "    <tr>\n",
       "      <th>City ID</th>\n",
       "      <th></th>\n",
       "      <th></th>\n",
       "      <th></th>\n",
       "      <th></th>\n",
       "      <th></th>\n",
       "      <th></th>\n",
       "      <th></th>\n",
       "      <th></th>\n",
       "      <th></th>\n",
       "    </tr>\n",
       "  </thead>\n",
       "  <tbody>\n",
       "    <tr>\n",
       "      <th>0</th>\n",
       "      <td>Cape Town</td>\n",
       "      <td>75</td>\n",
       "      <td>ZA</td>\n",
       "      <td>1624610574</td>\n",
       "      <td>77</td>\n",
       "      <td>-33.9258</td>\n",
       "      <td>18.4232</td>\n",
       "      <td>56.12</td>\n",
       "      <td>5.99</td>\n",
       "    </tr>\n",
       "    <tr>\n",
       "      <th>1</th>\n",
       "      <td>Saskylakh</td>\n",
       "      <td>91</td>\n",
       "      <td>RU</td>\n",
       "      <td>1624610575</td>\n",
       "      <td>50</td>\n",
       "      <td>71.9167</td>\n",
       "      <td>114.0833</td>\n",
       "      <td>70.48</td>\n",
       "      <td>14.45</td>\n",
       "    </tr>\n",
       "    <tr>\n",
       "      <th>2</th>\n",
       "      <td>Katsuura</td>\n",
       "      <td>100</td>\n",
       "      <td>JP</td>\n",
       "      <td>1624610575</td>\n",
       "      <td>79</td>\n",
       "      <td>35.1333</td>\n",
       "      <td>140.3000</td>\n",
       "      <td>80.11</td>\n",
       "      <td>8.48</td>\n",
       "    </tr>\n",
       "    <tr>\n",
       "      <th>3</th>\n",
       "      <td>Harper</td>\n",
       "      <td>100</td>\n",
       "      <td>LR</td>\n",
       "      <td>1624610576</td>\n",
       "      <td>85</td>\n",
       "      <td>4.3750</td>\n",
       "      <td>-7.7169</td>\n",
       "      <td>77.54</td>\n",
       "      <td>2.80</td>\n",
       "    </tr>\n",
       "    <tr>\n",
       "      <th>4</th>\n",
       "      <td>Cherskiy</td>\n",
       "      <td>98</td>\n",
       "      <td>RU</td>\n",
       "      <td>1624610576</td>\n",
       "      <td>52</td>\n",
       "      <td>68.7500</td>\n",
       "      <td>161.3000</td>\n",
       "      <td>54.01</td>\n",
       "      <td>12.86</td>\n",
       "    </tr>\n",
       "  </tbody>\n",
       "</table>\n",
       "</div>"
      ],
      "text/plain": [
       "              City  Cloudiness Country        Date  Humidity      Lat  \\\n",
       "City ID                                                                 \n",
       "0        Cape Town          75      ZA  1624610574        77 -33.9258   \n",
       "1        Saskylakh          91      RU  1624610575        50  71.9167   \n",
       "2         Katsuura         100      JP  1624610575        79  35.1333   \n",
       "3           Harper         100      LR  1624610576        85   4.3750   \n",
       "4         Cherskiy          98      RU  1624610576        52  68.7500   \n",
       "\n",
       "              Lng  Max Temp  Wind Speed  \n",
       "City ID                                  \n",
       "0         18.4232     56.12        5.99  \n",
       "1        114.0833     70.48       14.45  \n",
       "2        140.3000     80.11        8.48  \n",
       "3         -7.7169     77.54        2.80  \n",
       "4        161.3000     54.01       12.86  "
      ]
     },
     "execution_count": 8,
     "metadata": {},
     "output_type": "execute_result"
    }
   ],
   "source": [
    "#Displaying dataframe\n",
    "city_df.head()"
   ]
  },
  {
   "cell_type": "code",
   "execution_count": 9,
   "metadata": {},
   "outputs": [
    {
     "data": {
      "text/plain": [
       "City          578\n",
       "Cloudiness    578\n",
       "Country       578\n",
       "Date          578\n",
       "Humidity      578\n",
       "Lat           578\n",
       "Lng           578\n",
       "Max Temp      578\n",
       "Wind Speed    578\n",
       "dtype: int64"
      ]
     },
     "execution_count": 9,
     "metadata": {},
     "output_type": "execute_result"
    }
   ],
   "source": [
    "city_df.count()"
   ]
  },
  {
   "cell_type": "code",
   "execution_count": 10,
   "metadata": {},
   "outputs": [
    {
     "data": {
      "text/html": [
       "<div>\n",
       "<style scoped>\n",
       "    .dataframe tbody tr th:only-of-type {\n",
       "        vertical-align: middle;\n",
       "    }\n",
       "\n",
       "    .dataframe tbody tr th {\n",
       "        vertical-align: top;\n",
       "    }\n",
       "\n",
       "    .dataframe thead th {\n",
       "        text-align: right;\n",
       "    }\n",
       "</style>\n",
       "<table border=\"1\" class=\"dataframe\">\n",
       "  <thead>\n",
       "    <tr style=\"text-align: right;\">\n",
       "      <th></th>\n",
       "      <th>City_ID</th>\n",
       "      <th>Cloudiness</th>\n",
       "      <th>Country</th>\n",
       "      <th>Date</th>\n",
       "      <th>Humidity</th>\n",
       "      <th>Lat</th>\n",
       "      <th>Lng</th>\n",
       "      <th>Max Temp</th>\n",
       "      <th>Wind Speed</th>\n",
       "    </tr>\n",
       "    <tr>\n",
       "      <th>City</th>\n",
       "      <th></th>\n",
       "      <th></th>\n",
       "      <th></th>\n",
       "      <th></th>\n",
       "      <th></th>\n",
       "      <th></th>\n",
       "      <th></th>\n",
       "      <th></th>\n",
       "      <th></th>\n",
       "    </tr>\n",
       "  </thead>\n",
       "  <tbody>\n",
       "    <tr>\n",
       "      <th>ostrovnoy</th>\n",
       "      <td>0</td>\n",
       "      <td>2</td>\n",
       "      <td>RU</td>\n",
       "      <td>1558378754</td>\n",
       "      <td>72</td>\n",
       "      <td>68.05</td>\n",
       "      <td>39.51</td>\n",
       "      <td>37.50</td>\n",
       "      <td>7.16</td>\n",
       "    </tr>\n",
       "    <tr>\n",
       "      <th>mahebourg</th>\n",
       "      <td>1</td>\n",
       "      <td>75</td>\n",
       "      <td>MU</td>\n",
       "      <td>1558378503</td>\n",
       "      <td>74</td>\n",
       "      <td>-20.41</td>\n",
       "      <td>57.70</td>\n",
       "      <td>78.80</td>\n",
       "      <td>11.41</td>\n",
       "    </tr>\n",
       "    <tr>\n",
       "      <th>qaanaaq</th>\n",
       "      <td>2</td>\n",
       "      <td>25</td>\n",
       "      <td>GL</td>\n",
       "      <td>1558378755</td>\n",
       "      <td>73</td>\n",
       "      <td>77.48</td>\n",
       "      <td>-69.36</td>\n",
       "      <td>22.20</td>\n",
       "      <td>2.37</td>\n",
       "    </tr>\n",
       "    <tr>\n",
       "      <th>zhuhai</th>\n",
       "      <td>3</td>\n",
       "      <td>0</td>\n",
       "      <td>CN</td>\n",
       "      <td>1558378755</td>\n",
       "      <td>39</td>\n",
       "      <td>40.71</td>\n",
       "      <td>112.04</td>\n",
       "      <td>44.60</td>\n",
       "      <td>4.47</td>\n",
       "    </tr>\n",
       "    <tr>\n",
       "      <th>cape town</th>\n",
       "      <td>4</td>\n",
       "      <td>20</td>\n",
       "      <td>ZA</td>\n",
       "      <td>1558378755</td>\n",
       "      <td>76</td>\n",
       "      <td>-33.93</td>\n",
       "      <td>18.42</td>\n",
       "      <td>55.99</td>\n",
       "      <td>8.05</td>\n",
       "    </tr>\n",
       "  </tbody>\n",
       "</table>\n",
       "</div>"
      ],
      "text/plain": [
       "           City_ID  Cloudiness Country        Date  Humidity    Lat     Lng  \\\n",
       "City                                                                          \n",
       "ostrovnoy        0           2      RU  1558378754        72  68.05   39.51   \n",
       "mahebourg        1          75      MU  1558378503        74 -20.41   57.70   \n",
       "qaanaaq          2          25      GL  1558378755        73  77.48  -69.36   \n",
       "zhuhai           3           0      CN  1558378755        39  40.71  112.04   \n",
       "cape town        4          20      ZA  1558378755        76 -33.93   18.42   \n",
       "\n",
       "           Max Temp  Wind Speed  \n",
       "City                             \n",
       "ostrovnoy     37.50        7.16  \n",
       "mahebourg     78.80       11.41  \n",
       "qaanaaq       22.20        2.37  \n",
       "zhuhai        44.60        4.47  \n",
       "cape town     55.99        8.05  "
      ]
     },
     "execution_count": 10,
     "metadata": {},
     "output_type": "execute_result"
    }
   ],
   "source": [
    "dfcities = pd.read_csv(\"../output_data/cities.csv\", encoding=\"utf-8\")\n",
    "dfcities = dfcities.set_index('City')\n",
    "dfcities.head()"
   ]
  },
  {
   "cell_type": "markdown",
   "metadata": {},
   "source": [
    "## Inspect the data and remove the cities where the humidity > 100%.\n",
    "----\n",
    "Skip this step if there are no cities that have humidity > 100%. "
   ]
  },
  {
   "cell_type": "code",
   "execution_count": null,
   "metadata": {},
   "outputs": [],
   "source": []
  },
  {
   "cell_type": "code",
   "execution_count": null,
   "metadata": {},
   "outputs": [],
   "source": [
    "#  Get the indices of cities that have humidity over 100%.\n"
   ]
  },
  {
   "cell_type": "code",
   "execution_count": null,
   "metadata": {},
   "outputs": [],
   "source": [
    "# Make a new DataFrame equal to the city data to drop all humidity outliers by index.\n",
    "# Passing \"inplace=False\" will make a copy of the city_data DataFrame, which we call \"clean_city_data\".\n"
   ]
  },
  {
   "cell_type": "code",
   "execution_count": null,
   "metadata": {},
   "outputs": [],
   "source": [
    "\n"
   ]
  },
  {
   "cell_type": "markdown",
   "metadata": {},
   "source": [
    "## Plotting the Data\n",
    "* Use proper labeling of the plots using plot titles (including date of analysis) and axes labels.\n",
    "* Save the plotted figures as .pngs."
   ]
  },
  {
   "cell_type": "markdown",
   "metadata": {},
   "source": [
    "## Latitude vs. Temperature Plot"
   ]
  },
  {
   "cell_type": "code",
   "execution_count": 11,
   "metadata": {
    "scrolled": true
   },
   "outputs": [
    {
     "data": {
      "image/png": "[encoded data removed]",
      "text/plain": [
       "<Figure size 432x288 with 1 Axes>"
      ]
     },
     "metadata": {
      "needs_background": "light"
     },
     "output_type": "display_data"
    }
   ],
   "source": [
    "#Converting Date for title of plot\n",
    "timestamp = city_df[\"Date\"][0]\n",
    "converted_timestamp = datetime.utcfromtimestamp(timestamp)\n",
    "shortened_timestamp = datetime.date(converted_timestamp)\n",
    "\n",
    "#Creating plot\n",
    "plt.scatter(city_df[\"Lat\"], city_df[\"Max Temp\"], marker = \"o\", color = \"red\",edgecolor = \"black\")\n",
    "plt.grid()\n",
    "plt.xlabel(\"Latitude\")\n",
    "plt.ylabel(\"Max Temperature (F)\")\n",
    "plt.title(f\"City Latitude vs. Max Temperature({shortened_timestamp})\")\n",
    "plt.savefig(\"../output_data/Lat_vs_temp_plot\")\n",
    "plt.show()"
   ]
  },
  {
   "cell_type": "markdown",
   "metadata": {},
   "source": [
    "## Latitude vs. Humidity Plot"
   ]
  },
  {
   "cell_type": "code",
   "execution_count": 12,
   "metadata": {},
   "outputs": [
    {
     "data": {
      "image/png": "[encoded data removed]",
      "text/plain": [
       "<Figure size 432x288 with 1 Axes>"
      ]
     },
     "metadata": {
      "needs_background": "light"
     },
     "output_type": "display_data"
    }
   ],
   "source": [
    "plt.scatter(city_df[\"Lat\"], city_df[\"Humidity\"], marker = \"o\", color = \"red\",edgecolor = \"black\")\n",
    "plt.grid()\n",
    "plt.ylim(0, city_df[\"Humidity\"].max()+50)\n",
    "plt.xlabel(\"Latitude\")\n",
    "plt.ylabel(\"Humidity(%)\")\n",
    "plt.title(f\"City Latitude vs. Humidity ({shortened_timestamp})\")\n",
    "plt.savefig(\"../output_data/Lat_vs_humidity_plot\")\n",
    "plt.show()"
   ]
  },
  {
   "cell_type": "markdown",
   "metadata": {},
   "source": [
    "## Latitude vs. Cloudiness Plot"
   ]
  },
  {
   "cell_type": "code",
   "execution_count": 13,
   "metadata": {},
   "outputs": [
    {
     "data": {
      "image/png": "[encoded data removed]",
      "text/plain": [
       "<Figure size 432x288 with 1 Axes>"
      ]
     },
     "metadata": {
      "needs_background": "light"
     },
     "output_type": "display_data"
    }
   ],
   "source": [
    "plt.scatter(city_df[\"Lat\"], city_df[\"Cloudiness\"], marker = \"o\", color = \"red\",edgecolor = \"black\")\n",
    "plt.grid()\n",
    "plt.xlabel(\"Latitude\")\n",
    "plt.ylabel(\"Cloudiness(%)\")\n",
    "plt.title(f\"City Latitude vs. Cloudiness ({shortened_timestamp})\")\n",
    "plt.savefig(\"../output_data/Lat_vs_cloudiness_plot\")\n",
    "plt.show()"
   ]
  },
  {
   "cell_type": "markdown",
   "metadata": {},
   "source": [
    "## Latitude vs. Wind Speed Plot"
   ]
  },
  {
   "cell_type": "code",
   "execution_count": 14,
   "metadata": {},
   "outputs": [
    {
     "data": {
      "image/png": "[encoded data removed]",
      "text/plain": [
       "<Figure size 432x288 with 1 Axes>"
      ]
     },
     "metadata": {
      "needs_background": "light"
     },
     "output_type": "display_data"
    }
   ],
   "source": [
    "plt.scatter(city_df[\"Lat\"], city_df[\"Wind Speed\"], marker = \"o\", color = \"red\",edgecolor = \"black\")\n",
    "plt.grid()\n",
    "plt.xlabel(\"Latitude\")\n",
    "plt.ylabel(\"Wind Speed(mph)\")\n",
    "plt.title(f\"City Latitude vs. Wind Speed ({shortened_timestamp})\")\n",
    "plt.savefig(\"../output_data/Lat_vs_windSpeed_plot\")\n",
    "plt.show()"
   ]
  },
  {
   "cell_type": "markdown",
   "metadata": {},
   "source": [
    "## Linear Regression"
   ]
  },
  {
   "cell_type": "code",
   "execution_count": 15,
   "metadata": {},
   "outputs": [],
   "source": [
    "# OPTIONAL: Create a function to create Linear Regression plots\n",
    "# Add the linear regression equation and line to plot\n",
    "def linear_reg_plot(x_values,y_values):\n",
    "    (slope, intercept, rvalue, pvalue, stderr) = linregress(x_values, y_values)\n",
    "    regress_values = x_values * slope + intercept\n",
    "    line_eq = \"y = \" + str(round(slope,2)) + \"x + \" + str(round(intercept,2))\n",
    "    plt.scatter(x_values,y_values)\n",
    "    plt.plot(x_values,regress_values,\"r-\")\n",
    "    plt.annotate(line_eq,(x_values.median(),y_values.median()),fontsize=15,color=\"red\")\n",
    "    plt.xlabel(\"Latitude\")\n",
    "    print(f\"The r-squared is: {rvalue}\")\n",
    "    plt.show()"
   ]
  },
  {
   "cell_type": "code",
   "execution_count": 16,
   "metadata": {},
   "outputs": [],
   "source": [
    "# Create Northern and Southern Hemisphere DataFrames\n",
    "Northern_hemisphere = city_df.loc[city_df[\"Lat\"]>0]\n",
    "Southern_hemisphere = city_df.loc[city_df[\"Lat\"]<0]"
   ]
  },
  {
   "cell_type": "markdown",
   "metadata": {},
   "source": [
    "####  Northern Hemisphere - Max Temp vs. Latitude Linear Regression"
   ]
  },
  {
   "cell_type": "code",
   "execution_count": 17,
   "metadata": {},
   "outputs": [
    {
     "name": "stdout",
     "output_type": "stream",
     "text": [
      "The r-squared is: -0.6142213245532768\n"
     ]
    },
    {
     "data": {
      "image/png": "[encoded data removed]",
      "text/plain": [
       "<Figure size 432x288 with 1 Axes>"
      ]
     },
     "metadata": {
      "needs_background": "light"
     },
     "output_type": "display_data"
    },
    {
     "name": "stdout",
     "output_type": "stream",
     "text": [
      "None\n"
     ]
    }
   ],
   "source": [
    "x_values = Northern_hemisphere[\"Lat\"]\n",
    "y_values = Northern_hemisphere[\"Max Temp\"]\n",
    "plt.ylabel(\"Max Temp (F)\")\n",
    "print(linear_reg_plot(x_values,y_values))"
   ]
  },
  {
   "cell_type": "markdown",
   "metadata": {},
   "source": [
    "####  Southern Hemisphere - Max Temp vs. Latitude Linear Regression"
   ]
  },
  {
   "cell_type": "code",
   "execution_count": 18,
   "metadata": {},
   "outputs": [
    {
     "name": "stdout",
     "output_type": "stream",
     "text": [
      "The r-squared is: 0.801480456493451\n"
     ]
    },
    {
     "data": {
      "image/png": "[encoded data removed]",
      "text/plain": [
       "<Figure size 432x288 with 1 Axes>"
      ]
     },
     "metadata": {
      "needs_background": "light"
     },
     "output_type": "display_data"
    },
    {
     "name": "stdout",
     "output_type": "stream",
     "text": [
      "None\n"
     ]
    }
   ],
   "source": [
    "x_values = Southern_hemisphere[\"Lat\"]\n",
    "y_values = Southern_hemisphere[\"Max Temp\"]\n",
    "plt.ylabel(\"Max Temp (F)\")\n",
    "print(linear_reg_plot(x_values,y_values))"
   ]
  },
  {
   "cell_type": "markdown",
   "metadata": {},
   "source": [
    "####  Northern Hemisphere - Humidity (%) vs. Latitude Linear Regression"
   ]
  },
  {
   "cell_type": "code",
   "execution_count": 19,
   "metadata": {},
   "outputs": [
    {
     "name": "stdout",
     "output_type": "stream",
     "text": [
      "The r-squared is: -0.027875387789870764\n"
     ]
    },
    {
     "data": {
      "image/png": "[encoded data removed]",
      "text/plain": [
       "<Figure size 432x288 with 1 Axes>"
      ]
     },
     "metadata": {
      "needs_background": "light"
     },
     "output_type": "display_data"
    },
    {
     "name": "stdout",
     "output_type": "stream",
     "text": [
      "None\n"
     ]
    }
   ],
   "source": [
    "x_values = Northern_hemisphere[\"Lat\"]\n",
    "y_values = Northern_hemisphere[\"Humidity\"]\n",
    "plt.ylabel(\"Humidity (%)\")\n",
    "print(linear_reg_plot(x_values,y_values))"
   ]
  },
  {
   "cell_type": "markdown",
   "metadata": {},
   "source": [
    "####  Southern Hemisphere - Humidity (%) vs. Latitude Linear Regression"
   ]
  },
  {
   "cell_type": "code",
   "execution_count": 20,
   "metadata": {},
   "outputs": [
    {
     "name": "stdout",
     "output_type": "stream",
     "text": [
      "The r-squared is: -0.04081666150620045\n"
     ]
    },
    {
     "data": {
      "image/png": "[encoded data removed]",
      "text/plain": [
       "<Figure size 432x288 with 1 Axes>"
      ]
     },
     "metadata": {
      "needs_background": "light"
     },
     "output_type": "display_data"
    },
    {
     "name": "stdout",
     "output_type": "stream",
     "text": [
      "None\n"
     ]
    }
   ],
   "source": [
    "\n",
    "x_values = Southern_hemisphere[\"Lat\"]\n",
    "y_values = Southern_hemisphere[\"Humidity\"]\n",
    "plt.ylim(0, y_values.max()+100)\n",
    "plt.ylabel(\"Humidity (%)\")\n",
    "print(linear_reg_plot(x_values,y_values))"
   ]
  },
  {
   "cell_type": "markdown",
   "metadata": {},
   "source": [
    "####  Northern Hemisphere - Cloudiness (%) vs. Latitude Linear Regression"
   ]
  },
  {
   "cell_type": "code",
   "execution_count": 21,
   "metadata": {},
   "outputs": [
    {
     "name": "stdout",
     "output_type": "stream",
     "text": [
      "The r-squared is: 0.00835305715864009\n"
     ]
    },
    {
     "data": {
      "image/png": "[encoded data removed]",
      "text/plain": [
       "<Figure size 432x288 with 1 Axes>"
      ]
     },
     "metadata": {
      "needs_background": "light"
     },
     "output_type": "display_data"
    },
    {
     "name": "stdout",
     "output_type": "stream",
     "text": [
      "None\n"
     ]
    }
   ],
   "source": [
    "x_values = Northern_hemisphere[\"Lat\"]\n",
    "y_values = Northern_hemisphere[\"Cloudiness\"]\n",
    "plt.ylabel(\"Cloudiness\")\n",
    "print(linear_reg_plot(x_values,y_values))"
   ]
  },
  {
   "cell_type": "markdown",
   "metadata": {},
   "source": [
    "####  Southern Hemisphere - Cloudiness (%) vs. Latitude Linear Regression"
   ]
  },
  {
   "cell_type": "code",
   "execution_count": 22,
   "metadata": {},
   "outputs": [
    {
     "name": "stdout",
     "output_type": "stream",
     "text": [
      "The r-squared is: -0.0005301894802782572\n"
     ]
    },
    {
     "data": {
      "image/png": "[encoded data removed]",
      "text/plain": [
       "<Figure size 432x288 with 1 Axes>"
      ]
     },
     "metadata": {
      "needs_background": "light"
     },
     "output_type": "display_data"
    },
    {
     "name": "stdout",
     "output_type": "stream",
     "text": [
      "None\n"
     ]
    }
   ],
   "source": [
    "x_values = Southern_hemisphere[\"Lat\"]\n",
    "y_values = Southern_hemisphere[\"Cloudiness\"]\n",
    "plt.ylabel(\"Cloudiness\")\n",
    "print(linear_reg_plot(x_values,y_values))"
   ]
  },
  {
   "cell_type": "markdown",
   "metadata": {},
   "source": [
    "####  Northern Hemisphere - Wind Speed (mph) vs. Latitude Linear Regression"
   ]
  },
  {
   "cell_type": "code",
   "execution_count": 23,
   "metadata": {},
   "outputs": [
    {
     "name": "stdout",
     "output_type": "stream",
     "text": [
      "The r-squared is: 0.010489338065131101\n"
     ]
    },
    {
     "data": {
      "image/png": "[encoded data removed]",
      "text/plain": [
       "<Figure size 432x288 with 1 Axes>"
      ]
     },
     "metadata": {
      "needs_background": "light"
     },
     "output_type": "display_data"
    },
    {
     "name": "stdout",
     "output_type": "stream",
     "text": [
      "None\n"
     ]
    }
   ],
   "source": [
    "x_values = Northern_hemisphere[\"Lat\"]\n",
    "y_values = Northern_hemisphere[\"Wind Speed\"]\n",
    "plt.ylabel(\"Wind Speed\")\n",
    "print(linear_reg_plot(x_values,y_values))"
   ]
  },
  {
   "cell_type": "markdown",
   "metadata": {},
   "source": [
    "####  Southern Hemisphere - Wind Speed (mph) vs. Latitude Linear Regression"
   ]
  },
  {
   "cell_type": "code",
   "execution_count": 24,
   "metadata": {},
   "outputs": [
    {
     "name": "stdout",
     "output_type": "stream",
     "text": [
      "The r-squared is: -0.2460903547307275\n"
     ]
    },
    {
     "data": {
      "image/png": "[encoded data removed]",
      "text/plain": [
       "<Figure size 432x288 with 1 Axes>"
      ]
     },
     "metadata": {
      "needs_background": "light"
     },
     "output_type": "display_data"
    },
    {
     "name": "stdout",
     "output_type": "stream",
     "text": [
      "None\n"
     ]
    }
   ],
   "source": [
    "x_values = Southern_hemisphere[\"Lat\"]\n",
    "y_values = Southern_hemisphere[\"Wind Speed\"]\n",
    "plt.ylabel(\"Wind Speed\")\n",
    "print(linear_reg_plot(x_values,y_values))"
   ]
  },
  {
   "cell_type": "code",
   "execution_count": null,
   "metadata": {},
   "outputs": [],
   "source": []
  }
 ],
 "metadata": {
  "anaconda-cloud": {},
  "kernel_info": {
   "name": "python3"
  },
  "kernelspec": {
   "display_name": "Python 3",
   "language": "python",
   "name": "python3"
  },
  "language_info": {
   "codemirror_mode": {
    "name": "ipython",
    "version": 3
   },
   "file_extension": ".py",
   "mimetype": "text/x-python",
   "name": "python",
   "nbconvert_exporter": "python",
   "pygments_lexer": "ipython3",
   "version": "3.7.6"
  },
  "latex_envs": {
   "LaTeX_envs_menu_present": true,
   "autoclose": false,
   "autocomplete": true,
   "bibliofile": "biblio.bib",
   "cite_by": "apalike",
   "current_citInitial": 1,
   "eqLabelWithNumbers": true,
   "eqNumInitial": 1,
   "hotkeys": {
    "equation": "Ctrl-E",
    "itemize": "Ctrl-I"
   },
   "labels_anchors": false,
   "latex_user_defs": false,
   "report_style_numbering": false,
   "user_envs_cfg": false
  },
  "nteract": {
   "version": "0.12.3"
  }
 },
 "nbformat": 4,
 "nbformat_minor": 2
}
